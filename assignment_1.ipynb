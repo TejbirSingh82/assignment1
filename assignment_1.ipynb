{
  "nbformat": 4,
  "nbformat_minor": 0,
  "metadata": {
    "colab": {
      "name": "assignment 1.ipynb",
      "provenance": [],
      "collapsed_sections": []
    },
    "kernelspec": {
      "name": "python3",
      "display_name": "Python 3"
    }
  },
  "cells": [
    {
      "cell_type": "code",
      "metadata": {
        "id": "cC7ecgaLrYKl",
        "colab_type": "code",
        "outputId": "c313e763-6b11-47b4-81c2-a2be18f9ee1c",
        "colab": {
          "base_uri": "https://localhost:8080/",
          "height": 54
        }
      },
      "source": [
        "\"\"\"Write a program which will find all such numbers which are divisible by 7 but are not a multiple\n",
        "of 5, between 2000 and 3200 (both included). The numbers obtained should be printed in a\n",
        "comma-separated sequence on a single line.\"\"\"\n",
        "\n",
        "for i in range(2000,3200):\n",
        "    if(i%7==0) and (i%5!=0):\n",
        "     print(i,end=\" \")"
      ],
      "execution_count": 0,
      "outputs": [
        {
          "output_type": "stream",
          "text": [
            "2002 2009 2016 2023 2037 2044 2051 2058 2072 2079 2086 2093 2107 2114 2121 2128 2142 2149 2156 2163 2177 2184 2191 2198 2212 2219 2226 2233 2247 2254 2261 2268 2282 2289 2296 2303 2317 2324 2331 2338 2352 2359 2366 2373 2387 2394 2401 2408 2422 2429 2436 2443 2457 2464 2471 2478 2492 2499 2506 2513 2527 2534 2541 2548 2562 2569 2576 2583 2597 2604 2611 2618 2632 2639 2646 2653 2667 2674 2681 2688 2702 2709 2716 2723 2737 2744 2751 2758 2772 2779 2786 2793 2807 2814 2821 2828 2842 2849 2856 2863 2877 2884 2891 2898 2912 2919 2926 2933 2947 2954 2961 2968 2982 2989 2996 3003 3017 3024 3031 3038 3052 3059 3066 3073 3087 3094 3101 3108 3122 3129 3136 3143 3157 3164 3171 3178 3192 3199 "
          ],
          "name": "stdout"
        }
      ]
    },
    {
      "cell_type": "code",
      "metadata": {
        "id": "L6mOKnV3rfMV",
        "colab_type": "code",
        "outputId": "1e6e4427-c4f3-4ef9-d67d-a5bdc3963a5d",
        "colab": {
          "base_uri": "https://localhost:8080/",
          "height": 68
        }
      },
      "source": [
        "\"\"\"Write a Python program to accept the user's first and last name and then getting them printed in\n",
        "the the reverse order with a space between first name and last name\"\"\"\n",
        "f=input(\"enter your first name \")\n",
        "m=input(\"enter your last name \")\n",
        "print(\"reverse of your name \"+f[::-1]+ \" \" +m[::-1])"
      ],
      "execution_count": 0,
      "outputs": [
        {
          "output_type": "stream",
          "text": [
            "enter your first name Tejbir \n",
            "enter your last name Singh\n",
            "reverse of your name  ribjeT hgniS\n"
          ],
          "name": "stdout"
        }
      ]
    },
    {
      "cell_type": "code",
      "metadata": {
        "id": "8GMJw5hS3qo_",
        "colab_type": "code",
        "outputId": "a399fa68-d349-47ab-b2a9-57b1c1f6b217",
        "colab": {
          "base_uri": "https://localhost:8080/",
          "height": 34
        }
      },
      "source": [
        "\"\"\"Write a Python program to find the volume of a sphere with diameter 12 cm.\n",
        "Formula: V=4/3 * π * r\"\"\"\n",
        "con=4/3\n",
        "pi=22/7\n",
        "d=12\n",
        "r=d/2\n",
        "v=con*pi*r**3\n",
        "print(\"volume of sphere\",v)"
      ],
      "execution_count": 0,
      "outputs": [
        {
          "output_type": "stream",
          "text": [
            "volume of sphere 905.142857142857\n"
          ],
          "name": "stdout"
        }
      ]
    },
    {
      "cell_type": "code",
      "metadata": {
        "id": "KaUmdqq69icB",
        "colab_type": "code",
        "outputId": "ea2fc247-32b0-4590-bc83-da769b0bcd88",
        "colab": {
          "base_uri": "https://localhost:8080/",
          "height": 51
        }
      },
      "source": [
        "\"\"\"Write a program which accepts a sequence of comma-separated numbers from console and\n",
        "generate a list.\"\"\"\n",
        "\n",
        "x=input(\"enter sequence of number \")\n",
        "y=x.split(',')\n",
        "print(y)\n"
      ],
      "execution_count": 0,
      "outputs": [
        {
          "output_type": "stream",
          "text": [
            "enter sequence of number 1,2,3,4,5\n",
            "['1', '2', '3', '4', '5']\n"
          ],
          "name": "stdout"
        }
      ]
    },
    {
      "cell_type": "code",
      "metadata": {
        "id": "Frff_e-o9j6B",
        "colab_type": "code",
        "outputId": "7f6ebed8-9dcf-473c-c006-5241fdcba7b6",
        "colab": {
          "base_uri": "https://localhost:8080/",
          "height": 153
        }
      },
      "source": [
        "\"\"\"Create the below pattern using nested for loop in Python.\n",
        "*\n",
        "* *\n",
        "* * *\n",
        "* * * *\n",
        "* * * * *\n",
        "* * * *\n",
        "* * *\n",
        "* \"\"\"\n",
        "\n",
        "for i in range(4):\n",
        "     for j in range(i+1):  \n",
        "       print(\"*\",end=\" \")\n",
        "     print()\n",
        "for k in range(4):\n",
        "     for m in range(4-k):\n",
        "       print(\"*\",end=\" \")\n",
        "     print()         \n",
        " "
      ],
      "execution_count": 0,
      "outputs": [
        {
          "output_type": "stream",
          "text": [
            "* \n",
            "* * \n",
            "* * * \n",
            "* * * * \n",
            "* * * * \n",
            "* * * \n",
            "* * \n",
            "* \n"
          ],
          "name": "stdout"
        }
      ]
    },
    {
      "cell_type": "code",
      "metadata": {
        "id": "NPXChZ-_BcjY",
        "colab_type": "code",
        "outputId": "942c146a-6502-4ea0-efcc-6e958cfb12ae",
        "colab": {
          "base_uri": "https://localhost:8080/",
          "height": 51
        }
      },
      "source": [
        "\"\"\"Write a Python program to reverse a word after accepting the input from the user.\n",
        "Sample Output:\n",
        "Input word: AcadGild\n",
        "Output: dilGdacA\"\"\"\n",
        "\n",
        "x=input(\"enter your string\")\n",
        "print(x[len(x)-1::-1])\n"
      ],
      "execution_count": 0,
      "outputs": [
        {
          "output_type": "stream",
          "text": [
            "enter your stringAcadGild\n",
            "dliGdacA\n"
          ],
          "name": "stdout"
        }
      ]
    },
    {
      "cell_type": "markdown",
      "metadata": {
        "id": "0ejDZECyColH",
        "colab_type": "text"
      },
      "source": [
        "Q Write a Python Program to print the given string in the format specified in the sample output.\n",
        "WE, THE PEOPLE OF INDIA, having solemnly resolved to constitute India into a\n",
        "SOVEREIGN, SOCIALIST, SECULAR, DEMOCRATIC REPUBLIC and to secure to all\n",
        "its citizens\n",
        "Sample Output:\n",
        "WE, THE PEOPLE OF INDIA,\n",
        "having solemnly resolved to constitute India into a SOVEREIGN, !\n",
        "SOCIALIST, SECULAR, DEMOCRATIC REPUBLIC\n",
        "and to secure to all its citizens"
      ]
    },
    {
      "cell_type": "code",
      "metadata": {
        "id": "T_sXBa5SCs9O",
        "colab_type": "code",
        "outputId": "73fc2d54-4dd4-40a1-f858-11a1d2504ea2",
        "colab": {
          "base_uri": "https://localhost:8080/",
          "height": 85
        }
      },
      "source": [
        "\n",
        "print(\"WE, THE PEOPLE OF INDIA,\\n\\thaving solemnly resolved to constitute India into a SOVEREIGN,\\n\\t!SOCIALIST, SECULAR, DEMOCRATIC REPUBLIC\\n\\tand to secure to all its citizens\")"
      ],
      "execution_count": 0,
      "outputs": [
        {
          "output_type": "stream",
          "text": [
            "WE, THE PEOPLE OF INDIA,\n",
            "\thaving solemnly resolved to constitute India into a SOVEREIGN,\n",
            "\t!SOCIALIST, SECULAR, DEMOCRATIC REPUBLIC\n",
            "\tand to secure to all its citizens\n"
          ],
          "name": "stdout"
        }
      ]
    },
    {
      "cell_type": "code",
      "metadata": {
        "id": "rCB13fdeCsve",
        "colab_type": "code",
        "colab": {}
      },
      "source": [
        ""
      ],
      "execution_count": 0,
      "outputs": []
    }
  ]
}